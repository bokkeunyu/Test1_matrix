{
  "nbformat": 4,
  "nbformat_minor": 0,
  "metadata": {
    "colab": {
      "provenance": [],
      "include_colab_link": true
    },
    "kernelspec": {
      "name": "python3",
      "display_name": "Python 3"
    },
    "language_info": {
      "name": "python"
    }
  },
  "cells": [
    {
      "cell_type": "markdown",
      "metadata": {
        "id": "view-in-github",
        "colab_type": "text"
      },
      "source": [
        "<a href=\"https://colab.research.google.com/github/bokkeunyu/Test1_matrix/blob/main/Ch2_Matrix_Basic_test2.ipynb\" target=\"_parent\"><img src=\"https://colab.research.google.com/assets/colab-badge.svg\" alt=\"Open In Colab\"/></a>"
      ]
    },
    {
      "cell_type": "code",
      "source": [
        "import numpy as np   # Numpy import\n",
        "import pandas as pd  # Pandas import"
      ],
      "metadata": {
        "id": "TR7JvW8CxBFT"
      },
      "execution_count": 3,
      "outputs": []
    },
    {
      "cell_type": "markdown",
      "source": [
        "# 데이터 불러오기"
      ],
      "metadata": {
        "id": "t6OZZDBbHTR1"
      }
    },
    {
      "cell_type": "markdown",
      "source": [
        "## 행렬 연산의 기초"
      ],
      "metadata": {
        "id": "Ja1OCBr1_w2z"
      }
    },
    {
      "cell_type": "code",
      "source": [
        "A = np.array([[2, 5, 4],  # 2차원 행렬 A, B 생성\n",
        "              [1, 3, 5],\n",
        "              [8, 9, 0]])\n",
        "\n",
        "B = np.array([[1, 5, 0],\n",
        "              [3, 8, 3],\n",
        "              [4, 2, 7]])\n",
        "\n",
        "A_dim = np.ndim(A)  #A행렬의 차원\n",
        "A_shp = np.shape(A) #A행렬의 행과 열의 갯수\n",
        "A_sz = np.size(A)   #A행렬의 원소의 갯수\n",
        "\n",
        "print('A : \\n', A)\n",
        "print('B : \\n', B)\n",
        "print('A행렬의 차원 : \\n', A_dim)\n",
        "print('A행렬의 행과 열의 갯수 : \\n', A_shp)\n",
        "print('A행렬의 총원소 갯수 : \\n', A_sz)"
      ],
      "metadata": {
        "colab": {
          "base_uri": "https://localhost:8080/"
        },
        "id": "bE7ul3WV5aNo",
        "outputId": "aadd7581-5677-466b-ef7b-3f92265e955a"
      },
      "execution_count": 4,
      "outputs": [
        {
          "output_type": "stream",
          "name": "stdout",
          "text": [
            "A : \n",
            " [[2 5 4]\n",
            " [1 3 5]\n",
            " [8 9 0]]\n",
            "B : \n",
            " [[1 5 0]\n",
            " [3 8 3]\n",
            " [4 2 7]]\n",
            "A행렬의 차원 : \n",
            " 2\n",
            "A행렬의 행과 열의 갯수 : \n",
            " (3, 3)\n",
            "A행렬의 총원소 갯수 : \n",
            " 9\n"
          ]
        }
      ]
    },
    {
      "cell_type": "code",
      "source": [
        "A_B_sm = A + B  # 행렬의 합\n",
        "A_B_dc = A - B  # 행렬의 차\n",
        "\n",
        "print('행렬A와 행렬B 의 합 : \\n', A_B_sm,'\\n')\n",
        "print('행렬A와 행렬B 의 차 : \\n', A_B_dc)"
      ],
      "metadata": {
        "id": "z3eiuCLI5aQH",
        "outputId": "e05665e4-18c4-4d93-c6f1-f258d02479cc",
        "colab": {
          "base_uri": "https://localhost:8080/"
        }
      },
      "execution_count": null,
      "outputs": [
        {
          "output_type": "stream",
          "name": "stdout",
          "text": [
            "행렬A와 행렬B 의 합 : \n",
            " [[ 3 10  4]\n",
            " [ 4 11  8]\n",
            " [12 11  7]] \n",
            "\n",
            "행렬A와 행렬B 의 차 : \n",
            " [[ 1  0  4]\n",
            " [-2 -5  2]\n",
            " [ 4  7 -7]]\n"
          ]
        }
      ]
    },
    {
      "cell_type": "code",
      "source": [
        "Cab = A.dot(B)  #AB\n",
        "Cba = B.dot(A)  #BA\n",
        "CAB = A*B       #A*B(행렬원소간의 곱)\n",
        "\n",
        "print('AB : \\n', Cab, '\\n')\n",
        "print('BA : \\n', Cba, '\\n')\n",
        "print('A*B : \\n', CAB)"
      ],
      "metadata": {
        "id": "CtVQ49ZK5aU2",
        "outputId": "6f594c7c-919e-4ef0-b691-8e97a94a6526",
        "colab": {
          "base_uri": "https://localhost:8080/"
        }
      },
      "execution_count": 5,
      "outputs": [
        {
          "output_type": "stream",
          "name": "stdout",
          "text": [
            "AB : \n",
            " [[ 33  58  43]\n",
            " [ 30  39  44]\n",
            " [ 35 112  27]] \n",
            "\n",
            "BA : \n",
            " [[ 7 20 29]\n",
            " [38 66 52]\n",
            " [66 89 26]] \n",
            "\n",
            "A*B : \n",
            " [[ 2 25  0]\n",
            " [ 3 24 15]\n",
            " [32 18  0]]\n"
          ]
        }
      ]
    },
    {
      "cell_type": "code",
      "source": [
        "A_inv = np.linalg.inv(A)  # A의 역행렬 구하기\n",
        "B_inv = np.linalg.inv(B)  # B의  역행렬 구하기\n",
        "At = A.T  # A의 전치행렬 구하기\n",
        "Bt = B.T  # B의 전치행렬 구하기\n",
        "\n",
        "print('A의 역행렬 A-1 : \\n', A_inv, '\\n')\n",
        "print('B의 역행렬 B-1 : \\n', B_inv, '\\n')\n",
        "print('A의 전치행렬 At : \\n', At, '\\n')\n",
        "print('B의 전치행렬 Bt : \\n', Bt)"
      ],
      "metadata": {
        "outputId": "44c0afba-75e4-4f3d-c3c2-6010b5d23599",
        "colab": {
          "base_uri": "https://localhost:8080/"
        },
        "id": "n1MibQ1Coa29"
      },
      "execution_count": 6,
      "outputs": [
        {
          "output_type": "stream",
          "name": "stdout",
          "text": [
            "A의 역행렬 A-1 : \n",
            " [[-0.9   0.72  0.26]\n",
            " [ 0.8  -0.64 -0.12]\n",
            " [-0.3   0.44  0.02]] \n",
            "\n",
            "B의 역행렬 B-1 : \n",
            " [[10.  -7.   3. ]\n",
            " [-1.8  1.4 -0.6]\n",
            " [-5.2  3.6 -1.4]] \n",
            "\n",
            "A의 전치행렬 At : \n",
            " [[2 1 8]\n",
            " [5 3 9]\n",
            " [4 5 0]] \n",
            "\n",
            "B의 전치행렬 Bt : \n",
            " [[1 3 4]\n",
            " [5 8 2]\n",
            " [0 3 7]]\n"
          ]
        }
      ]
    },
    {
      "cell_type": "code",
      "source": [
        "I = np.eye(3) # 단위행렬\n",
        "Z = np.zeros((3,3))   # 영 행렬\n",
        "One = np.ones((3,3)) # 모든 요소가 1인 행렬\n",
        "Diag = np.diag(A)   # 행렬의 대각요소 추출\n",
        "\n",
        "print('단위행렬 : \\n', I, '\\n')\n",
        "print('영행렬 : \\n', Z, '\\n')\n",
        "print('모든 요소가 1인 행렬 : \\n', One, '\\n')\n",
        "print('행렬의 대각요소 : \\n', Diag)"
      ],
      "metadata": {
        "id": "179MZsqfL-gQ",
        "outputId": "35b0771f-4581-4bcc-f2ff-1f377c1fb17d",
        "colab": {
          "base_uri": "https://localhost:8080/"
        }
      },
      "execution_count": 7,
      "outputs": [
        {
          "output_type": "stream",
          "name": "stdout",
          "text": [
            "단위행렬 : \n",
            " [[1. 0. 0.]\n",
            " [0. 1. 0.]\n",
            " [0. 0. 1.]] \n",
            "\n",
            "영행렬 : \n",
            " [[0. 0. 0.]\n",
            " [0. 0. 0.]\n",
            " [0. 0. 0.]] \n",
            "\n",
            "모든 요소가 1인 행렬 : \n",
            " [[1. 1. 1.]\n",
            " [1. 1. 1.]\n",
            " [1. 1. 1.]] \n",
            "\n",
            "행렬의 대각요소 : \n",
            " [2 3 0]\n"
          ]
        }
      ]
    },
    {
      "cell_type": "code",
      "source": [
        "A_last_row = A[-1, :]   # 마지막 행 선택\n",
        "A_last_col = A[:,-1]    # 마지막 열 선택\n",
        "A_r3_c1 = A[0:3,0:1]  #  3행 1열 선택(0은 생략 가능)\n",
        "\n",
        "print('A 행렬의 마지막 행 : \\n', A_last_row, '\\n')\n",
        "print('A 행렬의 마직막 열 : \\n', A_last_col, '\\n')\n",
        "print('A 행렬의 3행 1열 \\n', A_r3_c1)"
      ],
      "metadata": {
        "id": "swLL2K_J_GFU",
        "outputId": "c7e3324d-af7e-4382-85c3-0d3c953acdaf",
        "colab": {
          "base_uri": "https://localhost:8080/"
        }
      },
      "execution_count": 10,
      "outputs": [
        {
          "output_type": "stream",
          "name": "stdout",
          "text": [
            "A 행렬의 마지막 행 : \n",
            " [8 9 0] \n",
            "\n",
            "A 행렬의 마직막 열 : \n",
            " [4 5 0] \n",
            "\n",
            "A 행렬의 3행 1열 \n",
            " [[2]\n",
            " [1]\n",
            " [8]]\n"
          ]
        }
      ]
    },
    {
      "cell_type": "code",
      "source": [
        "A_rp = np.tile(A_last_row, reps=[4,1])   # A 마지막행 4번 반복\n",
        "A_tot_sm = A.sum()   # 행렬의 모든 원소 합\n",
        "A_row_sm = A.sum(axis=0,keepdims=True)   # 행렬의 행합\n",
        "A_col_sm = A.sum(axis=1, keepdims=True)  # 행렬의 열합\n",
        "A_row_sm_1d = A.sum(axis=0)   # 행렬의 행합을 1차원으로 나타냄\n",
        "\n",
        "print('A행렬의 마지막행 4번 반복 : \\n', A_rp, '\\n')\n",
        "print('A행렬의 모든 원소 합 : \\n', A_tot_sm, '\\n')\n",
        "print('A행렬의 행합 : \\n', A_row_sm, '\\n')\n",
        "print('A행렬의 열합 : \\n', A_col_sm, '\\n')\n",
        "print('A행렬의 행합을 1차원으로 표시 : \\n', A_row_sm_1d)"
      ],
      "metadata": {
        "id": "xgwP6W43hA8N",
        "outputId": "7b22e448-30fc-4bc3-8c75-5fd1cd419f15",
        "colab": {
          "base_uri": "https://localhost:8080/"
        }
      },
      "execution_count": 13,
      "outputs": [
        {
          "output_type": "stream",
          "name": "stdout",
          "text": [
            "A행렬의 마지막행 4번 반복 : \n",
            " [[8 9 0]\n",
            " [8 9 0]\n",
            " [8 9 0]\n",
            " [8 9 0]] \n",
            "\n",
            "A행렬의 모든 원소 합 : \n",
            " 37 \n",
            "\n",
            "A행렬의 행합 : \n",
            " [[11 17  9]] \n",
            "\n",
            "A행렬의 열합 : \n",
            " [[11]\n",
            " [ 9]\n",
            " [17]] \n",
            "\n",
            "A행렬의 행합을 1차원으로 표시 : \n",
            " [11 17  9]\n"
          ]
        }
      ]
    },
    {
      "cell_type": "code",
      "source": [
        "A_B_vt = np.concatenate((A, B), axis=0)\n",
        "A_B_hz = np.concatenate((A, B), axis=1)\n",
        "\n",
        "print('행렬 수직으로 합치기 : \\n', A_B_vt, '\\n')\n",
        "print('행렬 수평으로 합치기 : \\n', A_B_hz)"
      ],
      "metadata": {
        "id": "tyhncyanEZTU",
        "outputId": "ef2a716e-a478-4363-dc16-7a4f4c144664",
        "colab": {
          "base_uri": "https://localhost:8080/"
        }
      },
      "execution_count": 14,
      "outputs": [
        {
          "output_type": "stream",
          "name": "stdout",
          "text": [
            "행렬 수직으로 합치기 : \n",
            " [[2 5 4]\n",
            " [1 3 5]\n",
            " [8 9 0]\n",
            " [1 5 0]\n",
            " [3 8 3]\n",
            " [4 2 7]] \n",
            "\n",
            "행렬 수평으로 합치기 : \n",
            " [[2 5 4 1 5 0]\n",
            " [1 3 5 3 8 3]\n",
            " [8 9 0 4 2 7]]\n"
          ]
        }
      ]
    },
    {
      "cell_type": "code",
      "source": [],
      "metadata": {
        "id": "6moZnKj_3S-O"
      },
      "execution_count": null,
      "outputs": []
    }
  ]
}